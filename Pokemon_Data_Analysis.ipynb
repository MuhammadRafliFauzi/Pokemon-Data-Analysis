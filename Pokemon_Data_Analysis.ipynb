{
  "nbformat": 4,
  "nbformat_minor": 0,
  "metadata": {
    "colab": {
      "provenance": []
    },
    "kernelspec": {
      "name": "python3",
      "display_name": "Python 3"
    },
    "language_info": {
      "name": "python"
    }
  },
  "cells": [
    {
      "cell_type": "markdown",
      "source": [
        "## **Pokemon Data Analysis**"
      ],
      "metadata": {
        "id": "KSulrlqF_XSO"
      }
    },
    {
      "cell_type": "markdown",
      "source": [
        "https://bit.ly/data-pokemon-dsf"
      ],
      "metadata": {
        "id": "mx5C6mFKlj0E"
      }
    },
    {
      "cell_type": "code",
      "source": [
        "# Reading data from a CSV file\n",
        "import pandas as pd\n",
        "\n",
        "df = pd.read_csv(\"Pokemon.csv\")\n",
        "df"
      ],
      "metadata": {
        "id": "HuDiMXTtXJM6",
        "colab": {
          "base_uri": "https://localhost:8080/",
          "height": 682
        },
        "outputId": "5514e51c-464c-4789-83c3-32ff8af075ab"
      },
      "execution_count": 1,
      "outputs": [
        {
          "output_type": "execute_result",
          "data": {
            "text/plain": [
              "       #                   Name   Type 1  Type 2  Total  HP  Attack  Defense  \\\n",
              "0      1              Bulbasaur    Grass  Poison    318  45      49       49   \n",
              "1      2                Ivysaur    Grass  Poison    405  60      62       63   \n",
              "2      3               Venusaur    Grass  Poison    525  80      82       83   \n",
              "3      3  VenusaurMega Venusaur    Grass  Poison    625  80     100      123   \n",
              "4      4             Charmander     Fire     NaN    309  39      52       43   \n",
              "..   ...                    ...      ...     ...    ...  ..     ...      ...   \n",
              "795  719                Diancie     Rock   Fairy    600  50     100      150   \n",
              "796  719    DiancieMega Diancie     Rock   Fairy    700  50     160      110   \n",
              "797  720    HoopaHoopa Confined  Psychic   Ghost    600  80     110       60   \n",
              "798  720     HoopaHoopa Unbound  Psychic    Dark    680  80     160       60   \n",
              "799  721              Volcanion     Fire   Water    600  80     110      120   \n",
              "\n",
              "     Sp. Atk  Sp. Def  Speed  Generation  Legendary  \n",
              "0         65       65     45           1      False  \n",
              "1         80       80     60           1      False  \n",
              "2        100      100     80           1      False  \n",
              "3        122      120     80           1      False  \n",
              "4         60       50     65           1      False  \n",
              "..       ...      ...    ...         ...        ...  \n",
              "795      100      150     50           6       True  \n",
              "796      160      110    110           6       True  \n",
              "797      150      130     70           6       True  \n",
              "798      170      130     80           6       True  \n",
              "799      130       90     70           6       True  \n",
              "\n",
              "[800 rows x 13 columns]"
            ],
            "text/html": [
              "\n",
              "  <div id=\"df-3519a7cf-a780-4f71-a462-87800f381b0c\" class=\"colab-df-container\">\n",
              "    <div>\n",
              "<style scoped>\n",
              "    .dataframe tbody tr th:only-of-type {\n",
              "        vertical-align: middle;\n",
              "    }\n",
              "\n",
              "    .dataframe tbody tr th {\n",
              "        vertical-align: top;\n",
              "    }\n",
              "\n",
              "    .dataframe thead th {\n",
              "        text-align: right;\n",
              "    }\n",
              "</style>\n",
              "<table border=\"1\" class=\"dataframe\">\n",
              "  <thead>\n",
              "    <tr style=\"text-align: right;\">\n",
              "      <th></th>\n",
              "      <th>#</th>\n",
              "      <th>Name</th>\n",
              "      <th>Type 1</th>\n",
              "      <th>Type 2</th>\n",
              "      <th>Total</th>\n",
              "      <th>HP</th>\n",
              "      <th>Attack</th>\n",
              "      <th>Defense</th>\n",
              "      <th>Sp. Atk</th>\n",
              "      <th>Sp. Def</th>\n",
              "      <th>Speed</th>\n",
              "      <th>Generation</th>\n",
              "      <th>Legendary</th>\n",
              "    </tr>\n",
              "  </thead>\n",
              "  <tbody>\n",
              "    <tr>\n",
              "      <th>0</th>\n",
              "      <td>1</td>\n",
              "      <td>Bulbasaur</td>\n",
              "      <td>Grass</td>\n",
              "      <td>Poison</td>\n",
              "      <td>318</td>\n",
              "      <td>45</td>\n",
              "      <td>49</td>\n",
              "      <td>49</td>\n",
              "      <td>65</td>\n",
              "      <td>65</td>\n",
              "      <td>45</td>\n",
              "      <td>1</td>\n",
              "      <td>False</td>\n",
              "    </tr>\n",
              "    <tr>\n",
              "      <th>1</th>\n",
              "      <td>2</td>\n",
              "      <td>Ivysaur</td>\n",
              "      <td>Grass</td>\n",
              "      <td>Poison</td>\n",
              "      <td>405</td>\n",
              "      <td>60</td>\n",
              "      <td>62</td>\n",
              "      <td>63</td>\n",
              "      <td>80</td>\n",
              "      <td>80</td>\n",
              "      <td>60</td>\n",
              "      <td>1</td>\n",
              "      <td>False</td>\n",
              "    </tr>\n",
              "    <tr>\n",
              "      <th>2</th>\n",
              "      <td>3</td>\n",
              "      <td>Venusaur</td>\n",
              "      <td>Grass</td>\n",
              "      <td>Poison</td>\n",
              "      <td>525</td>\n",
              "      <td>80</td>\n",
              "      <td>82</td>\n",
              "      <td>83</td>\n",
              "      <td>100</td>\n",
              "      <td>100</td>\n",
              "      <td>80</td>\n",
              "      <td>1</td>\n",
              "      <td>False</td>\n",
              "    </tr>\n",
              "    <tr>\n",
              "      <th>3</th>\n",
              "      <td>3</td>\n",
              "      <td>VenusaurMega Venusaur</td>\n",
              "      <td>Grass</td>\n",
              "      <td>Poison</td>\n",
              "      <td>625</td>\n",
              "      <td>80</td>\n",
              "      <td>100</td>\n",
              "      <td>123</td>\n",
              "      <td>122</td>\n",
              "      <td>120</td>\n",
              "      <td>80</td>\n",
              "      <td>1</td>\n",
              "      <td>False</td>\n",
              "    </tr>\n",
              "    <tr>\n",
              "      <th>4</th>\n",
              "      <td>4</td>\n",
              "      <td>Charmander</td>\n",
              "      <td>Fire</td>\n",
              "      <td>NaN</td>\n",
              "      <td>309</td>\n",
              "      <td>39</td>\n",
              "      <td>52</td>\n",
              "      <td>43</td>\n",
              "      <td>60</td>\n",
              "      <td>50</td>\n",
              "      <td>65</td>\n",
              "      <td>1</td>\n",
              "      <td>False</td>\n",
              "    </tr>\n",
              "    <tr>\n",
              "      <th>...</th>\n",
              "      <td>...</td>\n",
              "      <td>...</td>\n",
              "      <td>...</td>\n",
              "      <td>...</td>\n",
              "      <td>...</td>\n",
              "      <td>...</td>\n",
              "      <td>...</td>\n",
              "      <td>...</td>\n",
              "      <td>...</td>\n",
              "      <td>...</td>\n",
              "      <td>...</td>\n",
              "      <td>...</td>\n",
              "      <td>...</td>\n",
              "    </tr>\n",
              "    <tr>\n",
              "      <th>795</th>\n",
              "      <td>719</td>\n",
              "      <td>Diancie</td>\n",
              "      <td>Rock</td>\n",
              "      <td>Fairy</td>\n",
              "      <td>600</td>\n",
              "      <td>50</td>\n",
              "      <td>100</td>\n",
              "      <td>150</td>\n",
              "      <td>100</td>\n",
              "      <td>150</td>\n",
              "      <td>50</td>\n",
              "      <td>6</td>\n",
              "      <td>True</td>\n",
              "    </tr>\n",
              "    <tr>\n",
              "      <th>796</th>\n",
              "      <td>719</td>\n",
              "      <td>DiancieMega Diancie</td>\n",
              "      <td>Rock</td>\n",
              "      <td>Fairy</td>\n",
              "      <td>700</td>\n",
              "      <td>50</td>\n",
              "      <td>160</td>\n",
              "      <td>110</td>\n",
              "      <td>160</td>\n",
              "      <td>110</td>\n",
              "      <td>110</td>\n",
              "      <td>6</td>\n",
              "      <td>True</td>\n",
              "    </tr>\n",
              "    <tr>\n",
              "      <th>797</th>\n",
              "      <td>720</td>\n",
              "      <td>HoopaHoopa Confined</td>\n",
              "      <td>Psychic</td>\n",
              "      <td>Ghost</td>\n",
              "      <td>600</td>\n",
              "      <td>80</td>\n",
              "      <td>110</td>\n",
              "      <td>60</td>\n",
              "      <td>150</td>\n",
              "      <td>130</td>\n",
              "      <td>70</td>\n",
              "      <td>6</td>\n",
              "      <td>True</td>\n",
              "    </tr>\n",
              "    <tr>\n",
              "      <th>798</th>\n",
              "      <td>720</td>\n",
              "      <td>HoopaHoopa Unbound</td>\n",
              "      <td>Psychic</td>\n",
              "      <td>Dark</td>\n",
              "      <td>680</td>\n",
              "      <td>80</td>\n",
              "      <td>160</td>\n",
              "      <td>60</td>\n",
              "      <td>170</td>\n",
              "      <td>130</td>\n",
              "      <td>80</td>\n",
              "      <td>6</td>\n",
              "      <td>True</td>\n",
              "    </tr>\n",
              "    <tr>\n",
              "      <th>799</th>\n",
              "      <td>721</td>\n",
              "      <td>Volcanion</td>\n",
              "      <td>Fire</td>\n",
              "      <td>Water</td>\n",
              "      <td>600</td>\n",
              "      <td>80</td>\n",
              "      <td>110</td>\n",
              "      <td>120</td>\n",
              "      <td>130</td>\n",
              "      <td>90</td>\n",
              "      <td>70</td>\n",
              "      <td>6</td>\n",
              "      <td>True</td>\n",
              "    </tr>\n",
              "  </tbody>\n",
              "</table>\n",
              "<p>800 rows × 13 columns</p>\n",
              "</div>\n",
              "    <div class=\"colab-df-buttons\">\n",
              "\n",
              "  <div class=\"colab-df-container\">\n",
              "    <button class=\"colab-df-convert\" onclick=\"convertToInteractive('df-3519a7cf-a780-4f71-a462-87800f381b0c')\"\n",
              "            title=\"Convert this dataframe to an interactive table.\"\n",
              "            style=\"display:none;\">\n",
              "\n",
              "  <svg xmlns=\"http://www.w3.org/2000/svg\" height=\"24px\" viewBox=\"0 -960 960 960\">\n",
              "    <path d=\"M120-120v-720h720v720H120Zm60-500h600v-160H180v160Zm220 220h160v-160H400v160Zm0 220h160v-160H400v160ZM180-400h160v-160H180v160Zm440 0h160v-160H620v160ZM180-180h160v-160H180v160Zm440 0h160v-160H620v160Z\"/>\n",
              "  </svg>\n",
              "    </button>\n",
              "\n",
              "  <style>\n",
              "    .colab-df-container {\n",
              "      display:flex;\n",
              "      gap: 12px;\n",
              "    }\n",
              "\n",
              "    .colab-df-convert {\n",
              "      background-color: #E8F0FE;\n",
              "      border: none;\n",
              "      border-radius: 50%;\n",
              "      cursor: pointer;\n",
              "      display: none;\n",
              "      fill: #1967D2;\n",
              "      height: 32px;\n",
              "      padding: 0 0 0 0;\n",
              "      width: 32px;\n",
              "    }\n",
              "\n",
              "    .colab-df-convert:hover {\n",
              "      background-color: #E2EBFA;\n",
              "      box-shadow: 0px 1px 2px rgba(60, 64, 67, 0.3), 0px 1px 3px 1px rgba(60, 64, 67, 0.15);\n",
              "      fill: #174EA6;\n",
              "    }\n",
              "\n",
              "    .colab-df-buttons div {\n",
              "      margin-bottom: 4px;\n",
              "    }\n",
              "\n",
              "    [theme=dark] .colab-df-convert {\n",
              "      background-color: #3B4455;\n",
              "      fill: #D2E3FC;\n",
              "    }\n",
              "\n",
              "    [theme=dark] .colab-df-convert:hover {\n",
              "      background-color: #434B5C;\n",
              "      box-shadow: 0px 1px 3px 1px rgba(0, 0, 0, 0.15);\n",
              "      filter: drop-shadow(0px 1px 2px rgba(0, 0, 0, 0.3));\n",
              "      fill: #FFFFFF;\n",
              "    }\n",
              "  </style>\n",
              "\n",
              "    <script>\n",
              "      const buttonEl =\n",
              "        document.querySelector('#df-3519a7cf-a780-4f71-a462-87800f381b0c button.colab-df-convert');\n",
              "      buttonEl.style.display =\n",
              "        google.colab.kernel.accessAllowed ? 'block' : 'none';\n",
              "\n",
              "      async function convertToInteractive(key) {\n",
              "        const element = document.querySelector('#df-3519a7cf-a780-4f71-a462-87800f381b0c');\n",
              "        const dataTable =\n",
              "          await google.colab.kernel.invokeFunction('convertToInteractive',\n",
              "                                                    [key], {});\n",
              "        if (!dataTable) return;\n",
              "\n",
              "        const docLinkHtml = 'Like what you see? Visit the ' +\n",
              "          '<a target=\"_blank\" href=https://colab.research.google.com/notebooks/data_table.ipynb>data table notebook</a>'\n",
              "          + ' to learn more about interactive tables.';\n",
              "        element.innerHTML = '';\n",
              "        dataTable['output_type'] = 'display_data';\n",
              "        await google.colab.output.renderOutput(dataTable, element);\n",
              "        const docLink = document.createElement('div');\n",
              "        docLink.innerHTML = docLinkHtml;\n",
              "        element.appendChild(docLink);\n",
              "      }\n",
              "    </script>\n",
              "  </div>\n",
              "\n",
              "\n",
              "<div id=\"df-bcfc7996-64db-4368-a37e-0a32ca888573\">\n",
              "  <button class=\"colab-df-quickchart\" onclick=\"quickchart('df-bcfc7996-64db-4368-a37e-0a32ca888573')\"\n",
              "            title=\"Suggest charts\"\n",
              "            style=\"display:none;\">\n",
              "\n",
              "<svg xmlns=\"http://www.w3.org/2000/svg\" height=\"24px\"viewBox=\"0 0 24 24\"\n",
              "     width=\"24px\">\n",
              "    <g>\n",
              "        <path d=\"M19 3H5c-1.1 0-2 .9-2 2v14c0 1.1.9 2 2 2h14c1.1 0 2-.9 2-2V5c0-1.1-.9-2-2-2zM9 17H7v-7h2v7zm4 0h-2V7h2v10zm4 0h-2v-4h2v4z\"/>\n",
              "    </g>\n",
              "</svg>\n",
              "  </button>\n",
              "\n",
              "<style>\n",
              "  .colab-df-quickchart {\n",
              "      --bg-color: #E8F0FE;\n",
              "      --fill-color: #1967D2;\n",
              "      --hover-bg-color: #E2EBFA;\n",
              "      --hover-fill-color: #174EA6;\n",
              "      --disabled-fill-color: #AAA;\n",
              "      --disabled-bg-color: #DDD;\n",
              "  }\n",
              "\n",
              "  [theme=dark] .colab-df-quickchart {\n",
              "      --bg-color: #3B4455;\n",
              "      --fill-color: #D2E3FC;\n",
              "      --hover-bg-color: #434B5C;\n",
              "      --hover-fill-color: #FFFFFF;\n",
              "      --disabled-bg-color: #3B4455;\n",
              "      --disabled-fill-color: #666;\n",
              "  }\n",
              "\n",
              "  .colab-df-quickchart {\n",
              "    background-color: var(--bg-color);\n",
              "    border: none;\n",
              "    border-radius: 50%;\n",
              "    cursor: pointer;\n",
              "    display: none;\n",
              "    fill: var(--fill-color);\n",
              "    height: 32px;\n",
              "    padding: 0;\n",
              "    width: 32px;\n",
              "  }\n",
              "\n",
              "  .colab-df-quickchart:hover {\n",
              "    background-color: var(--hover-bg-color);\n",
              "    box-shadow: 0 1px 2px rgba(60, 64, 67, 0.3), 0 1px 3px 1px rgba(60, 64, 67, 0.15);\n",
              "    fill: var(--button-hover-fill-color);\n",
              "  }\n",
              "\n",
              "  .colab-df-quickchart-complete:disabled,\n",
              "  .colab-df-quickchart-complete:disabled:hover {\n",
              "    background-color: var(--disabled-bg-color);\n",
              "    fill: var(--disabled-fill-color);\n",
              "    box-shadow: none;\n",
              "  }\n",
              "\n",
              "  .colab-df-spinner {\n",
              "    border: 2px solid var(--fill-color);\n",
              "    border-color: transparent;\n",
              "    border-bottom-color: var(--fill-color);\n",
              "    animation:\n",
              "      spin 1s steps(1) infinite;\n",
              "  }\n",
              "\n",
              "  @keyframes spin {\n",
              "    0% {\n",
              "      border-color: transparent;\n",
              "      border-bottom-color: var(--fill-color);\n",
              "      border-left-color: var(--fill-color);\n",
              "    }\n",
              "    20% {\n",
              "      border-color: transparent;\n",
              "      border-left-color: var(--fill-color);\n",
              "      border-top-color: var(--fill-color);\n",
              "    }\n",
              "    30% {\n",
              "      border-color: transparent;\n",
              "      border-left-color: var(--fill-color);\n",
              "      border-top-color: var(--fill-color);\n",
              "      border-right-color: var(--fill-color);\n",
              "    }\n",
              "    40% {\n",
              "      border-color: transparent;\n",
              "      border-right-color: var(--fill-color);\n",
              "      border-top-color: var(--fill-color);\n",
              "    }\n",
              "    60% {\n",
              "      border-color: transparent;\n",
              "      border-right-color: var(--fill-color);\n",
              "    }\n",
              "    80% {\n",
              "      border-color: transparent;\n",
              "      border-right-color: var(--fill-color);\n",
              "      border-bottom-color: var(--fill-color);\n",
              "    }\n",
              "    90% {\n",
              "      border-color: transparent;\n",
              "      border-bottom-color: var(--fill-color);\n",
              "    }\n",
              "  }\n",
              "</style>\n",
              "\n",
              "  <script>\n",
              "    async function quickchart(key) {\n",
              "      const quickchartButtonEl =\n",
              "        document.querySelector('#' + key + ' button');\n",
              "      quickchartButtonEl.disabled = true;  // To prevent multiple clicks.\n",
              "      quickchartButtonEl.classList.add('colab-df-spinner');\n",
              "      try {\n",
              "        const charts = await google.colab.kernel.invokeFunction(\n",
              "            'suggestCharts', [key], {});\n",
              "      } catch (error) {\n",
              "        console.error('Error during call to suggestCharts:', error);\n",
              "      }\n",
              "      quickchartButtonEl.classList.remove('colab-df-spinner');\n",
              "      quickchartButtonEl.classList.add('colab-df-quickchart-complete');\n",
              "    }\n",
              "    (() => {\n",
              "      let quickchartButtonEl =\n",
              "        document.querySelector('#df-bcfc7996-64db-4368-a37e-0a32ca888573 button');\n",
              "      quickchartButtonEl.style.display =\n",
              "        google.colab.kernel.accessAllowed ? 'block' : 'none';\n",
              "    })();\n",
              "  </script>\n",
              "</div>\n",
              "    </div>\n",
              "  </div>\n"
            ],
            "application/vnd.google.colaboratory.intrinsic+json": {
              "type": "dataframe",
              "variable_name": "df",
              "summary": "{\n  \"name\": \"df\",\n  \"rows\": 800,\n  \"fields\": [\n    {\n      \"column\": \"#\",\n      \"properties\": {\n        \"dtype\": \"number\",\n        \"std\": 208,\n        \"min\": 1,\n        \"max\": 721,\n        \"num_unique_values\": 721,\n        \"samples\": [\n          260,\n          659,\n          78\n        ],\n        \"semantic_type\": \"\",\n        \"description\": \"\"\n      }\n    },\n    {\n      \"column\": \"Name\",\n      \"properties\": {\n        \"dtype\": \"string\",\n        \"num_unique_values\": 800,\n        \"samples\": [\n          \"Hydreigon\",\n          \"Beheeyem\",\n          \"Growlithe\"\n        ],\n        \"semantic_type\": \"\",\n        \"description\": \"\"\n      }\n    },\n    {\n      \"column\": \"Type 1\",\n      \"properties\": {\n        \"dtype\": \"category\",\n        \"num_unique_values\": 18,\n        \"samples\": [\n          \"Grass\",\n          \"Fire\",\n          \"Fairy\"\n        ],\n        \"semantic_type\": \"\",\n        \"description\": \"\"\n      }\n    },\n    {\n      \"column\": \"Type 2\",\n      \"properties\": {\n        \"dtype\": \"category\",\n        \"num_unique_values\": 18,\n        \"samples\": [\n          \"Poison\",\n          \"Flying\",\n          \"Steel\"\n        ],\n        \"semantic_type\": \"\",\n        \"description\": \"\"\n      }\n    },\n    {\n      \"column\": \"Total\",\n      \"properties\": {\n        \"dtype\": \"number\",\n        \"std\": 119,\n        \"min\": 180,\n        \"max\": 780,\n        \"num_unique_values\": 200,\n        \"samples\": [\n          700,\n          349,\n          505\n        ],\n        \"semantic_type\": \"\",\n        \"description\": \"\"\n      }\n    },\n    {\n      \"column\": \"HP\",\n      \"properties\": {\n        \"dtype\": \"number\",\n        \"std\": 25,\n        \"min\": 1,\n        \"max\": 255,\n        \"num_unique_values\": 94,\n        \"samples\": [\n          106,\n          81,\n          170\n        ],\n        \"semantic_type\": \"\",\n        \"description\": \"\"\n      }\n    },\n    {\n      \"column\": \"Attack\",\n      \"properties\": {\n        \"dtype\": \"number\",\n        \"std\": 32,\n        \"min\": 5,\n        \"max\": 190,\n        \"num_unique_values\": 111,\n        \"samples\": [\n          79,\n          63,\n          52\n        ],\n        \"semantic_type\": \"\",\n        \"description\": \"\"\n      }\n    },\n    {\n      \"column\": \"Defense\",\n      \"properties\": {\n        \"dtype\": \"number\",\n        \"std\": 31,\n        \"min\": 5,\n        \"max\": 230,\n        \"num_unique_values\": 103,\n        \"samples\": [\n          20,\n          88,\n          23\n        ],\n        \"semantic_type\": \"\",\n        \"description\": \"\"\n      }\n    },\n    {\n      \"column\": \"Sp. Atk\",\n      \"properties\": {\n        \"dtype\": \"number\",\n        \"std\": 32,\n        \"min\": 10,\n        \"max\": 194,\n        \"num_unique_values\": 105,\n        \"samples\": [\n          58,\n          150,\n          160\n        ],\n        \"semantic_type\": \"\",\n        \"description\": \"\"\n      }\n    },\n    {\n      \"column\": \"Sp. Def\",\n      \"properties\": {\n        \"dtype\": \"number\",\n        \"std\": 27,\n        \"min\": 20,\n        \"max\": 230,\n        \"num_unique_values\": 92,\n        \"samples\": [\n          154,\n          45,\n          44\n        ],\n        \"semantic_type\": \"\",\n        \"description\": \"\"\n      }\n    },\n    {\n      \"column\": \"Speed\",\n      \"properties\": {\n        \"dtype\": \"number\",\n        \"std\": 29,\n        \"min\": 5,\n        \"max\": 180,\n        \"num_unique_values\": 108,\n        \"samples\": [\n          113,\n          50,\n          100\n        ],\n        \"semantic_type\": \"\",\n        \"description\": \"\"\n      }\n    },\n    {\n      \"column\": \"Generation\",\n      \"properties\": {\n        \"dtype\": \"number\",\n        \"std\": 1,\n        \"min\": 1,\n        \"max\": 6,\n        \"num_unique_values\": 6,\n        \"samples\": [\n          1,\n          2,\n          6\n        ],\n        \"semantic_type\": \"\",\n        \"description\": \"\"\n      }\n    },\n    {\n      \"column\": \"Legendary\",\n      \"properties\": {\n        \"dtype\": \"boolean\",\n        \"num_unique_values\": 2,\n        \"samples\": [\n          true,\n          false\n        ],\n        \"semantic_type\": \"\",\n        \"description\": \"\"\n      }\n    }\n  ]\n}"
            }
          },
          "metadata": {},
          "execution_count": 1
        }
      ]
    },
    {
      "cell_type": "markdown",
      "source": [
        "**Pokemon with Highest HP Value**"
      ],
      "metadata": {
        "id": "GGrcMP65mLVU"
      }
    },
    {
      "cell_type": "code",
      "source": [
        "# Fungsi untuk menemukan pemilik nilai tertinggi pada suatu kolom\n",
        "def nilai_tertinggi(df, kolom):\n",
        "    nilai_tertinggi = df[kolom].max()\n",
        "    baris_nilai_tertinggi = df.loc[df[kolom] == nilai_tertinggi]\n",
        "    pemilik_nilai_tertinggi = baris_nilai_tertinggi['Name'].iloc[0]\n",
        "    return nilai_tertinggi, pemilik_nilai_tertinggi\n",
        "\n",
        "# Menemukan nilai tertinggi pada kolom 'HP'\n",
        "nilai_hp, pemilik_hp= nilai_tertinggi(df, 'HP')\n",
        "print(\"Nilai tertinggi pada kolom 'HP' dimiliki oleh:\", pemilik_hp)\n",
        "print(\"Nilainya adalah:\", nilai_hp)"
      ],
      "metadata": {
        "colab": {
          "base_uri": "https://localhost:8080/"
        },
        "id": "StU8huWumvws",
        "outputId": "c9c7a4c9-6e0d-4a6a-c481-2403bae900ed"
      },
      "execution_count": null,
      "outputs": [
        {
          "output_type": "stream",
          "name": "stdout",
          "text": [
            "Nilai tertinggi pada kolom 'HP' dimiliki oleh: Blissey\n",
            "Nilainya adalah: 255\n"
          ]
        }
      ]
    },
    {
      "cell_type": "markdown",
      "source": [
        "**Pokemon with Lowest HP Value**"
      ],
      "metadata": {
        "id": "vHX0qICBUkFA"
      }
    },
    {
      "cell_type": "code",
      "source": [
        "# Fungsi untuk menemukan pemilik nilai terendah pada suatu kolom\n",
        "def nilai_terendah(df, kolom):\n",
        "    nilai_terendah = df[kolom].min()\n",
        "    baris_nilai_terendah = df.loc[df[kolom] == nilai_terendah]\n",
        "    pemilik_nilai_terendah = baris_nilai_terendah['Name'].iloc[0]\n",
        "    return nilai_terendah, pemilik_nilai_terendah\n",
        "\n",
        "# Menemukan nilai terendah pada kolom 'HP'\n",
        "nilai_hp, pemilik_hp = nilai_terendah(df, 'HP')\n",
        "print(\"Nilai terendah pada kolom 'HP' dimiliki oleh:\", pemilik_hp)\n",
        "print(\"Nilainya adalah:\", nilai_hp)"
      ],
      "metadata": {
        "colab": {
          "base_uri": "https://localhost:8080/"
        },
        "outputId": "9831dd1e-11e5-4f91-eae5-b987904b0e64",
        "id": "qd3JBny7UiIH"
      },
      "execution_count": null,
      "outputs": [
        {
          "output_type": "stream",
          "name": "stdout",
          "text": [
            "Nilai terendah pada kolom 'HP' dimiliki oleh: Shedinja\n",
            "Nilainya adalah: 1\n"
          ]
        }
      ]
    },
    {
      "cell_type": "markdown",
      "source": [
        "**Pokemon with Highest Attack Value**"
      ],
      "metadata": {
        "id": "EB7U5jRAoBcn"
      }
    },
    {
      "cell_type": "code",
      "source": [
        "# Fungsi untuk menemukan pemilik nilai tertinggi pada suatu kolom\n",
        "def nilai_tertinggi(df, kolom):\n",
        "    nilai_tertinggi = df[kolom].max()\n",
        "    baris_nilai_tertinggi = df.loc[df[kolom] == nilai_tertinggi]\n",
        "    pemilik_nilai_tertinggi = baris_nilai_tertinggi['Name'].iloc[0]\n",
        "    return nilai_tertinggi, pemilik_nilai_tertinggi\n",
        "\n",
        "# Menemukan nilai tertinggi pada kolom 'Attack'\n",
        "nilai_attack, pemilik_attack, = nilai_tertinggi(df, 'Attack')\n",
        "print(\"Nilai tertinggi pada kolom 'Attack' dimiliki oleh:\", pemilik_attack)\n",
        "print(\"Nilainya adalah:\", nilai_attack)"
      ],
      "metadata": {
        "colab": {
          "base_uri": "https://localhost:8080/"
        },
        "id": "XKp23Ujaz5ZP",
        "outputId": "7dd1d2f2-a5e8-452b-e78f-b4ac3d0e3cc9"
      },
      "execution_count": null,
      "outputs": [
        {
          "output_type": "stream",
          "name": "stdout",
          "text": [
            "Nilai tertinggi pada kolom 'Attack' dimiliki oleh: MewtwoMega Mewtwo X\n",
            "Nilainya adalah: 190\n"
          ]
        }
      ]
    },
    {
      "cell_type": "markdown",
      "source": [
        "**Pokemon with Lowest Attack Value**"
      ],
      "metadata": {
        "id": "zPDeiWzlVIVo"
      }
    },
    {
      "cell_type": "code",
      "source": [
        "# Fungsi untuk menemukan pemilik nilai terendah pada suatu kolom\n",
        "def nilai_terendah(df, kolom):\n",
        "    nilai_terendah = df[kolom].min()\n",
        "    baris_nilai_terendah = df.loc[df[kolom] == nilai_terendah]\n",
        "    pemilik_nilai_terendah = baris_nilai_terendah['Name'].iloc[0]\n",
        "    return nilai_terendah, pemilik_nilai_terendah\n",
        "\n",
        "# Menemukan nilai terendah pada kolom 'Attack'\n",
        "nilai_attack, pemilik_attack = nilai_terendah(df, 'Attack')\n",
        "print(\"Nilai terendah pada kolom 'Attack' dimiliki oleh:\", pemilik_attack)\n",
        "print(\"Nilainya adalah:\", nilai_attack)"
      ],
      "metadata": {
        "colab": {
          "base_uri": "https://localhost:8080/"
        },
        "id": "gcpCij76VHoC",
        "outputId": "295f545d-9683-4f4c-c33b-8661e34ba1cb"
      },
      "execution_count": null,
      "outputs": [
        {
          "output_type": "stream",
          "name": "stdout",
          "text": [
            "Nilai terendah pada kolom 'Attack' dimiliki oleh: Chansey\n",
            "Nilainya adalah: 5\n"
          ]
        }
      ]
    },
    {
      "cell_type": "markdown",
      "source": [
        "**Pokemon with Highest Defense Value**"
      ],
      "metadata": {
        "id": "4tMuYU6XoFtO"
      }
    },
    {
      "cell_type": "code",
      "source": [
        "# Fungsi untuk menemukan pemilik nilai tertinggi pada suatu kolom\n",
        "def nilai_tertinggi(df, kolom):\n",
        "    nilai_tertinggi = df[kolom].max()\n",
        "    baris_nilai_tertinggi = df.loc[df[kolom] == nilai_tertinggi]\n",
        "    pemilik_nilai_tertinggi = baris_nilai_tertinggi['Name'].iloc[0]\n",
        "    return nilai_tertinggi, pemilik_nilai_tertinggi\n",
        "\n",
        "# Menemukan nilai tertinggi pada kolom 'defense'\n",
        "nilai_defense, pemilik_defense = nilai_tertinggi(df, 'Defense')\n",
        "print(\"Nilai tertinggi pada kolom 'Defense' dimiliki oleh:\", pemilik_defense)\n",
        "print(\"Nilainya adalah:\", nilai_defense)"
      ],
      "metadata": {
        "colab": {
          "base_uri": "https://localhost:8080/"
        },
        "id": "SP_xUah8pALx",
        "outputId": "55bde32f-41c8-4abe-f070-3ea8d708ca59"
      },
      "execution_count": null,
      "outputs": [
        {
          "output_type": "stream",
          "name": "stdout",
          "text": [
            "Nilai tertinggi pada kolom 'Defense' dimiliki oleh: SteelixMega Steelix\n",
            "Nilainya adalah: 230\n"
          ]
        }
      ]
    },
    {
      "cell_type": "markdown",
      "source": [
        "**Pokemon with Lowest Defense Value**"
      ],
      "metadata": {
        "id": "TTAOkndmWWEq"
      }
    },
    {
      "cell_type": "code",
      "source": [
        "# Fungsi untuk menemukan pemilik nilai terendah pada suatu kolom\n",
        "def nilai_terendah(df, kolom):\n",
        "    nilai_terendah = df[kolom].min()\n",
        "    baris_nilai_terendah = df.loc[df[kolom] == nilai_terendah]\n",
        "    pemilik_nilai_terendah = baris_nilai_terendah['Name'].iloc[0]\n",
        "    return nilai_terendah, pemilik_nilai_terendah\n",
        "\n",
        "# Menemukan nilai terendah pada kolom 'defense'\n",
        "nilai_defense, pemilik_defense = nilai_terendah(df, 'Defense')\n",
        "print(\"Nilai terendah pada kolom 'Defense' dimiliki oleh:\", pemilik_defense)\n",
        "print(\"Nilainya adalah:\", nilai_defense)"
      ],
      "metadata": {
        "colab": {
          "base_uri": "https://localhost:8080/"
        },
        "id": "gen_RBx8WYB9",
        "outputId": "2659916e-8b7e-4fc5-8da5-697d002a1433"
      },
      "execution_count": null,
      "outputs": [
        {
          "output_type": "stream",
          "name": "stdout",
          "text": [
            "Nilai terendah pada kolom 'Defense' dimiliki oleh: Chansey\n",
            "Nilainya adalah: 5\n"
          ]
        }
      ]
    },
    {
      "cell_type": "markdown",
      "source": [
        "**Pokemon with Highest Speed Value**"
      ],
      "metadata": {
        "id": "qNZLkPxYpwNt"
      }
    },
    {
      "cell_type": "code",
      "source": [
        "# Fungsi untuk menemukan pemilik nilai tertinggi pada suatu kolom\n",
        "def nilai_tertinggi(df, kolom):\n",
        "    nilai_tertinggi = df[kolom].max()\n",
        "    baris_nilai_tertinggi = df.loc[df[kolom] == nilai_tertinggi]\n",
        "    pemilik_nilai_tertinggi = baris_nilai_tertinggi['Name'].iloc[0]\n",
        "    return nilai_tertinggi, pemilik_nilai_tertinggi\n",
        "\n",
        "# Menemukan nilai tertinggi pada kolom 'Speed'\n",
        "nilai_speed, pemilik_speed = nilai_tertinggi(df, 'Speed')\n",
        "print(\"Nilai tertinggi pada kolom 'Speed' dimiliki oleh:\", pemilik_speed)\n",
        "print(\"Nilainya adalah:\", nilai_speed)"
      ],
      "metadata": {
        "colab": {
          "base_uri": "https://localhost:8080/"
        },
        "id": "hQoG6S5srHRL",
        "outputId": "a6bdba2c-fc96-4541-f70a-0b253a66c4e8"
      },
      "execution_count": null,
      "outputs": [
        {
          "output_type": "stream",
          "name": "stdout",
          "text": [
            "Nilai tertinggi pada kolom 'Speed' dimiliki oleh: DeoxysSpeed Forme\n",
            "Nilainya adalah: 180\n"
          ]
        }
      ]
    },
    {
      "cell_type": "markdown",
      "source": [
        "**Pokemon with Lowest Speed Value**"
      ],
      "metadata": {
        "id": "C6R1sozIXWbo"
      }
    },
    {
      "cell_type": "code",
      "source": [
        "# Fungsi untuk menemukan pemilik nilai terendah pada suatu kolom\n",
        "def nilai_terendah(df, kolom):\n",
        "    nilai_terendah = df[kolom].min()\n",
        "    baris_nilai_terendah = df.loc[df[kolom] == nilai_terendah]\n",
        "    pemilik_nilai_terendah = baris_nilai_terendah['Name'].iloc[0]\n",
        "    return nilai_terendah, pemilik_nilai_terendah\n",
        "\n",
        "# Menemukan nilai terendah pada kolom 'Speed'\n",
        "nilai_speed, pemilik_speed = nilai_terendah(df, 'Speed')\n",
        "print(\"Nilai terendah pada kolom 'Speed' dimiliki oleh:\", pemilik_speed)\n",
        "print(\"Nilainya adalah:\", nilai_speed)"
      ],
      "metadata": {
        "colab": {
          "base_uri": "https://localhost:8080/"
        },
        "id": "1F7pje0KXVoy",
        "outputId": "0f8345e7-78b5-4ad3-cc80-80790052b50e"
      },
      "execution_count": null,
      "outputs": [
        {
          "output_type": "stream",
          "name": "stdout",
          "text": [
            "Nilai terendah pada kolom 'Speed' dimiliki oleh: Shuckle\n",
            "Nilainya adalah: 5\n"
          ]
        }
      ]
    },
    {
      "cell_type": "markdown",
      "source": [
        "**Number of Pokemon by Type in Column 'Type 1'**"
      ],
      "metadata": {
        "id": "lD0F98b_kA4T"
      }
    },
    {
      "cell_type": "code",
      "source": [
        "# Menghitung jumlah pokemon untuk setiap tipe dalam kolom 'Type'\n",
        "jumlah_pokemon_per_type = df['Type 1'].value_counts()\n",
        "\n",
        "print(\"Jumlah pokemon untuk setiap tipe:\")\n",
        "print(jumlah_pokemon_per_type)"
      ],
      "metadata": {
        "colab": {
          "base_uri": "https://localhost:8080/"
        },
        "id": "k9n6QNu0unFP",
        "outputId": "9212e096-002f-4ca7-9b09-602ba166302b"
      },
      "execution_count": null,
      "outputs": [
        {
          "output_type": "stream",
          "name": "stdout",
          "text": [
            "Jumlah pokemon untuk setiap tipe:\n",
            "Water       112\n",
            "Normal       98\n",
            "Grass        70\n",
            "Bug          69\n",
            "Psychic      57\n",
            "Fire         52\n",
            "Electric     44\n",
            "Rock         44\n",
            "Dragon       32\n",
            "Ground       32\n",
            "Ghost        32\n",
            "Dark         31\n",
            "Poison       28\n",
            "Steel        27\n",
            "Fighting     27\n",
            "Ice          24\n",
            "Fairy        17\n",
            "Flying        4\n",
            "Name: Type 1, dtype: int64\n"
          ]
        }
      ]
    },
    {
      "cell_type": "code",
      "source": [
        "# Membuat grafik\n",
        "plt.bar(jumlah_pokemon_per_type.index, jumlah_pokemon_per_type.values)\n",
        "plt.xlabel('Tipe Pokemon')\n",
        "plt.ylabel('Jumlah Pokemon')\n",
        "plt.title('Jumlah Pokemon untuk Setiap Tipe Pada Kolom \\'Type 1\\'')\n",
        "plt.xticks(rotation=45)\n",
        "plt.grid(axis='y')\n",
        "\n",
        "# Menampilkan grafik\n",
        "plt.show()"
      ],
      "metadata": {
        "id": "JWjNzc4F3T_r",
        "outputId": "52d131f8-8498-46a1-a760-83c7ad2c6e65",
        "colab": {
          "base_uri": "https://localhost:8080/",
          "height": 507
        }
      },
      "execution_count": null,
      "outputs": [
        {
          "output_type": "display_data",
          "data": {
            "text/plain": [
              "<Figure size 640x480 with 1 Axes>"
            ],
            "image/png": "[encoded data removed]"
          },
          "metadata": {}
        }
      ]
    },
    {
      "cell_type": "markdown",
      "source": [
        "**Number of Pokemon by Type in Column 'Type 2'**"
      ],
      "metadata": {
        "id": "e98VRViOkHd0"
      }
    },
    {
      "cell_type": "code",
      "source": [
        "# Menghitung jumlah pokemon untuk setiap tipe dalam kolom 'Type'\n",
        "jumlah_pokemon_per_type = df['Type 2'].value_counts()\n",
        "\n",
        "print(\"Jumlah pokemon untuk setiap tipe:\")\n",
        "print(jumlah_pokemon_per_type)"
      ],
      "metadata": {
        "colab": {
          "base_uri": "https://localhost:8080/"
        },
        "id": "U7icF4FTu1Rd",
        "outputId": "78557dbc-2820-406e-d19d-b2d437463fac"
      },
      "execution_count": null,
      "outputs": [
        {
          "output_type": "stream",
          "name": "stdout",
          "text": [
            "Jumlah pokemon untuk setiap tipe:\n",
            "Flying      97\n",
            "Ground      35\n",
            "Poison      34\n",
            "Psychic     33\n",
            "Fighting    26\n",
            "Grass       25\n",
            "Fairy       23\n",
            "Steel       22\n",
            "Dark        20\n",
            "Dragon      18\n",
            "Water       14\n",
            "Ghost       14\n",
            "Ice         14\n",
            "Rock        14\n",
            "Fire        12\n",
            "Electric     6\n",
            "Normal       4\n",
            "Bug          3\n",
            "Name: Type 2, dtype: int64\n"
          ]
        }
      ]
    },
    {
      "cell_type": "code",
      "source": [
        "# Membuat grafik\n",
        "plt.bar(jumlah_pokemon_per_type.index, jumlah_pokemon_per_type.values)\n",
        "plt.xlabel('Tipe Pokemon')\n",
        "plt.ylabel('Jumlah Pokemon')\n",
        "plt.title('Jumlah Pokemon untuk Setiap Tipe Pada Kolom \\'Type 2\\'')\n",
        "plt.xticks(rotation=45)\n",
        "plt.grid(axis='y')\n",
        "\n",
        "# Menampilkan grafik\n",
        "plt.show()"
      ],
      "metadata": {
        "colab": {
          "base_uri": "https://localhost:8080/",
          "height": 507
        },
        "id": "iBhpiSkJjN_C",
        "outputId": "0cfdff2c-8b7e-46e5-92c7-ea00fda20acf"
      },
      "execution_count": null,
      "outputs": [
        {
          "output_type": "display_data",
          "data": {
            "text/plain": [
              "<Figure size 640x480 with 1 Axes>"
            ],
            "image/png": "[encoded data removed]"
          },
          "metadata": {}
        }
      ]
    }
  ]
}